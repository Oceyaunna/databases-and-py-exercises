{
    "metadata": {
        "kernelspec": {
            "name": "python3",
            "display_name": "Python 3 (ipykernel)",
            "language": "python"
        },
        "language_info": {
            "name": "python",
            "version": "3.8.10",
            "mimetype": "text/x-python",
            "codemirror_mode": {
                "name": "ipython",
                "version": 3
            },
            "pygments_lexer": "ipython3",
            "nbconvert_exporter": "python",
            "file_extension": ".py"
        }
    },
    "nbformat_minor": 2,
    "nbformat": 4,
    "cells": [
        {
            "cell_type": "markdown",
            "source": [
                "# Exercises: Working with Databases in Python\n",
                "\n",
                "For the exercises, we will be practicing the steps outlined in this [article](https://towardsdatascience.com/do-you-know-python-has-a-built-in-database-d553989c87bd). You can skip the portion where the author downloads a separate SQL client to examine the database. "
            ],
            "metadata": {
                "azdata_cell_guid": "d7b89799-a102-479f-87b7-f2759ff1962e"
            },
            "attachments": {}
        },
        {
            "cell_type": "markdown",
            "source": [
                "## Import Libraries\n",
                "\n",
                "We will need `pandas` and `sqlite3`. SQLite is a small, self-contained database engine that comes with Python so you will not have to do any additional installations for this lesson. If you want to connect to a different database engine, such as SQL server, you may need additional libraries such as `sqlalchemy` or `pyodbc` and a tool called a driver which helps to connect a database to an application.\n",
                ""
            ],
            "metadata": {
                "azdata_cell_guid": "89a0b6d9-821d-44f5-9795-9519809b9108"
            },
            "attachments": {}
        },
        {
            "cell_type": "code",
            "source": [
                "# Import sqlite3 and pandas.\n",
                "#C:/Users/Ocey 2.0/azuredatastudio-python (python 3)pip install pandas\n",
                "\n",
                "import sqlite3 as sl\n",
                "\n",
                "#import pandas\n",
                "\n",
                "#ModuleNotFoundError                       Traceback (most recent call last)\n",
                "#Cell In[14], line 5\n",
                "#      1 # Import sqlite3 and pandas.\n",
                "#      2 #C:/Users/Ocey 2.0/azuredatastudio-python (python 3)pip install pandas\n",
                "#      4 import sqlite3 as sl\n",
                "#----> 5 import pandas\n",
                "\n",
                "#ModuleNotFoundError: No module named 'pandas'"
            ],
            "metadata": {
                "azdata_cell_guid": "865655b0-22e9-47f4-a5df-4bfe97dda4a3",
                "tags": [],
                "language": "python"
            },
            "outputs": [],
            "execution_count": 46
        },
        {
            "cell_type": "markdown",
            "source": [
                "## Create a Database\n",
                "\n",
                "In the article, the author shows how to use `sqlite3` to open a connection to an existing database or create a new one. Use this method to make a new database called `exercises.db`."
            ],
            "metadata": {
                "azdata_cell_guid": "be8436e2-68be-47f8-9fc9-06c235a6a128"
            }
        },
        {
            "cell_type": "code",
            "source": [
                "# Create a new database called exercises.db.\n",
                "\n",
                "con = sl.connect('exercises.db')\n",
                ""
            ],
            "metadata": {
                "azdata_cell_guid": "707abc33-c6ee-416e-9358-c799f1fcbb12",
                "language": "python",
                "tags": []
            },
            "outputs": [],
            "execution_count": 48
        },
        {
            "cell_type": "markdown",
            "source": [
                "## Create a Table\n",
                "\n",
                "Follow the steps in the article to create a table called `favorite_books.db`. This table should include columns for the title, author, and a short description of why it is a favorite."
            ],
            "metadata": {
                "azdata_cell_guid": "dc9df060-ddc9-4573-bd74-3c97323f85a7"
            },
            "attachments": {}
        },
        {
            "cell_type": "code",
            "source": [
                "# Create a new table in your database. with con:\n",
                "# DOESNT NEED THE .DB AT THE END TO CREATE A TABLE (WILL THROW AN ERROR MESSAGE THAT FAVORITE BOOKS DB DOES NOT EXIST)\n",
                "\n",
                "import sqlite3\n",
                "\n",
                "con = sqlite3.connect('exercises.db')\n",
                "print (\"Opened database successfully\");\n",
                "\n",
                "con.execute('''CREATE TABLE favorite_books (\n",
                "        title TEXT,\n",
                "        author TEXT,\n",
                "        description TEXT);''')\n",
                "\n",
                "print (\"Table created successfully\");\n",
                "\n",
                ""
            ],
            "metadata": {
                "azdata_cell_guid": "3cc6b80e-3fa2-4d2e-b2a9-1ea5d68ba01e",
                "language": "python",
                "tags": []
            },
            "outputs": [
                {
                    "name": "stdout",
                    "text": "Opened database successfully\n",
                    "output_type": "stream"
                },
                {
                    "traceback": [
                        "\u001b[1;31m---------------------------------------------------------------------------\u001b[0m",
                        "\u001b[1;31mOperationalError\u001b[0m                          Traceback (most recent call last)",
                        "Cell \u001b[1;32mIn[50], line 9\u001b[0m\n\u001b[0;32m      6\u001b[0m con \u001b[38;5;241m=\u001b[39m sqlite3\u001b[38;5;241m.\u001b[39mconnect(\u001b[38;5;124m'\u001b[39m\u001b[38;5;124mexercises.db\u001b[39m\u001b[38;5;124m'\u001b[39m)\n\u001b[0;32m      7\u001b[0m \u001b[38;5;28mprint\u001b[39m (\u001b[38;5;124m\"\u001b[39m\u001b[38;5;124mOpened database successfully\u001b[39m\u001b[38;5;124m\"\u001b[39m);\n\u001b[1;32m----> 9\u001b[0m \u001b[43mcon\u001b[49m\u001b[38;5;241;43m.\u001b[39;49m\u001b[43mexecute\u001b[49m\u001b[43m(\u001b[49m\u001b[38;5;124;43m'''\u001b[39;49m\u001b[38;5;124;43mCREATE TABLE favorite_books (\u001b[39;49m\n\u001b[0;32m     10\u001b[0m \u001b[38;5;124;43m        title TEXT,\u001b[39;49m\n\u001b[0;32m     11\u001b[0m \u001b[38;5;124;43m        author TEXT,\u001b[39;49m\n\u001b[0;32m     12\u001b[0m \u001b[38;5;124;43m        description TEXT);\u001b[39;49m\u001b[38;5;124;43m'''\u001b[39;49m\u001b[43m)\u001b[49m\n\u001b[0;32m     14\u001b[0m \u001b[38;5;28mprint\u001b[39m (\u001b[38;5;124m\"\u001b[39m\u001b[38;5;124mTable created successfully\u001b[39m\u001b[38;5;124m\"\u001b[39m);\n\u001b[0;32m     16\u001b[0m con\u001b[38;5;241m.\u001b[39mopen()\n",
                        "\u001b[1;31mOperationalError\u001b[0m: table favorite_books already exists"
                    ],
                    "ename": "OperationalError",
                    "evalue": "table favorite_books already exists",
                    "output_type": "error"
                }
            ],
            "execution_count": 50
        },
        {
            "cell_type": "markdown",
            "source": [
                "## Insert Records\n",
                "\n",
                "Add 3 entries to your table for your top 3 favorite books."
            ],
            "metadata": {
                "azdata_cell_guid": "e9acec60-1485-45c8-9f12-997f959d44cc"
            }
        },
        {
            "cell_type": "code",
            "source": [
                "# Add your 3 favorite books to your table.\n",
                "\n",
                "#Need to define the SQL statement with question marks as  placeholder.\n",
                "#Create some sample data to be inserted\n",
                "sql = 'INSERT INTO favorite_books (title, author, description) VALUES(?, ?, ?)'\n",
                "data = [\n",
                "    ('Cinder', 'Marissa Meyer', \"Sixteen-year-old Cinder, a gifted mechanic, is a cyborg. She's a second-class citizen with a mysterious past and is reviled by her stepmother. But when her life becomes intertwined with the handsome Prince Kai's, she suddenly finds herself at the center of an intergalactic struggle, and a forbidden attraction.\"),\n",
                "    ('Nana (Manga)', 'Ai Yazawa', \"The series is centered on Nana Osaki and Nana Komatsu, two women who move to Tokyo at the age of 20, with the story focused on Nana O.'s pursuit for fame and Nana K.'s pursuit for romance, all while struggling to maintain their friendship\"),\n",
                "    ('Lore Olympus (Comic)', 'Rachel Smythe', 'A modern retelling of the relationship between the Greek goddess and got Persephone and Hades')\n",
                "]\n",
                "\n",
                "with con:\n",
                "    con.executemany(sql, data)"
            ],
            "metadata": {
                "azdata_cell_guid": "c7b8e386-f3f4-42ad-aa91-a2da2e7904a5",
                "language": "python"
            },
            "outputs": [],
            "execution_count": 51
        },
        {
            "cell_type": "markdown",
            "source": [
                "## Query Your Table\n",
                "\n",
                "Write a `SELECT` query to output the 3 records in your table."
            ],
            "metadata": {
                "azdata_cell_guid": "b2e48ba7-b418-4418-bb16-598fb82b964c"
            },
            "attachments": {}
        },
        {
            "cell_type": "code",
            "source": [
                "# Write your SELECT query here.\n",
                "\n",
                "with con:\n",
                "    data = con.execute(\"SELECT * FROM favorite_books\")\n",
                "    for row in data:\n",
                "        print(row)"
            ],
            "metadata": {
                "azdata_cell_guid": "c341e7e2-d635-4c26-b744-237c762f7f41",
                "tags": [],
                "language": "python"
            },
            "outputs": [
                {
                    "name": "stdout",
                    "text": "('Cinder', 'Marissa Meyer', \"Sixteen-year-old Cinder, a gifted mechanic, is a cyborg. She's a second-class citizen with a mysterious past and is reviled by her stepmother. But when her life becomes intertwined with the handsome Prince Kai's, she suddenly finds herself at the center of an intergalactic struggle, and a forbidden attraction.\")\n('Nana (Manga)', 'Ai Yazawa', \"The series is centered on Nana Osaki and Nana Komatsu, two women who move to Tokyo at the age of 20, with the story focused on Nana O.'s pursuit for fame and Nana K.'s pursuit for romance, all while struggling to maintain their friendship\")\n('Lore Olympus (Comic)', 'Rachel Smythe', 'A modern retelling of the relationship between the Greek goddess and got Persephone and Hades')\n",
                    "output_type": "stream"
                }
            ],
            "execution_count": 53
        },
        {
            "cell_type": "markdown",
            "source": [
                "## Create a New Table with Pandas\n",
                "\n",
                "Create a new table called `favorite_movies` with your top 3 favorite movies. Each movie should have an id and a title. This time, use Pandas to first make a dataframe and then write the dataframe to SQL. Write a `SELECT` query to confirm that the new table does have your top 3 favorite movies."
            ],
            "metadata": {
                "azdata_cell_guid": "2127737d-71cd-4f0d-a84e-b1db8ad54af7"
            }
        },
        {
            "cell_type": "code",
            "source": [
                "# Use Pandas to make a new table in your database.\n",
                "\n",
                "with con:\n",
                "con.execute('''CREATE TABLE favorite_movies (\n",
                "        id INTEGER NOT NULL PRIMARY KEY AUTOINCREMENT,\n",
                "        title TEXT,\n",
                "        Rotten Tomatoe Rating INTEGER,\n",
                "        description TEXT);''')\n",
                "\n",
                "print (\"Table created successfully\");"
            ],
            "metadata": {
                "azdata_cell_guid": "b4b6dd20-ccc0-42e7-b1e7-79d8596b3f9c",
                "language": "python"
            },
            "outputs": [],
            "execution_count": 20
        }
    ]
}